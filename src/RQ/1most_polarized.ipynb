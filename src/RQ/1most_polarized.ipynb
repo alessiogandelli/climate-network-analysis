{
 "cells": [
  {
   "cell_type": "markdown",
   "metadata": {},
   "source": [
    "load data "
   ]
  },
  {
   "cell_type": "code",
   "execution_count": null,
   "metadata": {},
   "outputs": [],
   "source": [
    "# %%load data \n",
    "n_cop = '2x'\n",
    "n_influencers = 100\n",
    "\n",
    "folder = '/Users/alessiogandelli/data/cop' + str(n_cop) + '/'\n",
    "projected_path = folder + 'networks/cop' + str(n_cop) +'_retweet_network_ml.gml'\n",
    "topic_label = json.load(open(folder + 'cache/labels_cop'+str(n_cop)+'.json'))\n",
    "topic_label = {int(k): v for k, v in topic_label.items()}# key float to int\n",
    "\n",
    "retweet_df_path = folder + 'cache/retweets_labeled_cop'+str(n_cop)+'.pkl'\n",
    "tweet_cop26_path = folder + 'cache/tweets_cop'+str(n_cop)+'.pkl'\n",
    "\n",
    "retweet_df = pd.read_pickle(retweet_df_path)\n",
    "tweet_cop26 = pd.read_pickle(tweet_cop26_path)\n",
    "\n",
    "mln = ml.read(projected_path)   # multilayer network\n",
    "\n",
    "layers = ml.to_nx_dict(mln) # dictionary where we have a networkx graph for each layer\n",
    "layers = {int(float(k)): v for k, v in layers.items()} # key float to int\n",
    "\n",
    "\n",
    "rt_net_path = folder + 'networks/cop'+str(n_cop)+'_retweet_network.gml' \n",
    "rt_net = nx.read_gml(rt_net_path)"
   ]
  },
  {
   "cell_type": "code",
   "execution_count": null,
   "metadata": {},
   "outputs": [],
   "source": [
    "# %%\n",
    "topics_pol = [t[0] for t in sorted_topic_label[:5]]\n",
    "topics_not_pol = [t[0] for t in sorted_topic_label[-5:]]\n",
    "topics_not_pol.reverse()\n",
    "\n",
    "create_plots(topics_pol, 'most polarized topics' + ' - ' + str(n_influencers) + ' influencers')\n",
    "create_plots(topics_pol,'most polarized topics' + ' - ' + str(n_influencers) + ' influencers',only_influencers=True)\n",
    "create_plots(topics_not_pol, 'least polarized topics' + ' - ' + str(n_influencers) + ' influencers')\n",
    "create_plots(topics_not_pol,'least polarized topics'+' - ' + str(n_influencers) + ' influencers', only_influencers=True)\n",
    "\n"
   ]
  },
  {
   "cell_type": "code",
   "execution_count": null,
   "metadata": {},
   "outputs": [],
   "source": [
    "influencer34 = res[34][2]\n",
    "influencer34.set_index('source', inplace=True)\n",
    "\n",
    "tweets34 = retweet_df[retweet_df['topic'] == 34]\n",
    "# keep only original tweets, with referenced = none \n",
    "\n",
    "\n",
    "tweets34 = tweets34[tweets34['author'].isin(influencer34.index)]\n",
    "\n",
    "## add influencer34['score'] to tweets34\n",
    "tweets34 = tweets34.merge(influencer34['score'], left_on='author', right_index=True)\n",
    "\n",
    "tweets34_sx = tweets34[tweets34['score'] < 0]\n",
    "tweets34_dx = tweets34[tweets34['score'] > 0]"
   ]
  }
 ],
 "metadata": {
  "language_info": {
   "name": "python"
  },
  "orig_nbformat": 4
 },
 "nbformat": 4,
 "nbformat_minor": 2
}
